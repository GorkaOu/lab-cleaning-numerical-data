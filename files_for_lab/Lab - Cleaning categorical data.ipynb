{
 "cells": [
  {
   "cell_type": "markdown",
   "id": "fa81b81c",
   "metadata": {},
   "source": [
    "#### 1. Open the notebook created for Lab-cleaning-numerical-data."
   ]
  },
  {
   "cell_type": "code",
   "execution_count": null,
   "id": "57b18f5c",
   "metadata": {},
   "outputs": [],
   "source": []
  },
  {
   "cell_type": "code",
   "execution_count": null,
   "id": "69bf4b6b",
   "metadata": {},
   "outputs": [],
   "source": [
    "2. Find all of the categorical data. Save it in a categorical_df variable.\n",
    "\n",
    "3. Check for NaN values and decide what to do with them, do it now.\n",
    "\n",
    "4. Check all unique values of columns.\n",
    "\n",
    "5. Check dtypes. Do they all make sense as categorical data?\n",
    "\n",
    "6. Does any column contain alpha and numeric data? Decide how to clean it and do it now.\n",
    "\n",
    "7. Would you choose to do anything else to clean or wrangle the categorical data? Comment your decisions and do it now.\n",
    "\n",
    "8. Compare policy_type and policy. What information is contained in these columns. Can you identify what is important?\n",
    "\n",
    "9. Check number of unique values in each column, can they be combined in any way to ease encoding? Comment your thoughts and make those changes.\n",
    "\n",
    "10. Save the cleaned catagorical dataframe as categorical.csv You will use this file again this week."
   ]
  }
 ],
 "metadata": {
  "kernelspec": {
   "display_name": "Python 3 (ipykernel)",
   "language": "python",
   "name": "python3"
  },
  "language_info": {
   "codemirror_mode": {
    "name": "ipython",
    "version": 3
   },
   "file_extension": ".py",
   "mimetype": "text/x-python",
   "name": "python",
   "nbconvert_exporter": "python",
   "pygments_lexer": "ipython3",
   "version": "3.9.13"
  }
 },
 "nbformat": 4,
 "nbformat_minor": 5
}
